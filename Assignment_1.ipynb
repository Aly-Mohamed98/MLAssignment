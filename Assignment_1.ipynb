{
 "cells": [
  {
   "cell_type": "markdown",
   "metadata": {},
   "source": [
    "<h1 align=\"center\"> CSEN 1022 Assignment Submission </h1> "
   ]
  },
  {
   "cell_type": "markdown",
   "metadata": {},
   "source": [
    "## Please don't forget to fill in this data\n",
    "Member 1 Name:Aly Mohamed\n",
    "\n",
    "Member 1 ID:40-20194\n",
    "\n",
    "Member 1 Tutorial:T-15\n",
    "\n",
    "Member 2 Name:\n",
    "\n",
    "Member 2 ID:\n",
    "\n",
    "Member 2 Tutorial:"
   ]
  },
  {
   "cell_type": "markdown",
   "metadata": {},
   "source": [
    "## Imports (Don't Edit)"
   ]
  },
  {
   "cell_type": "code",
   "execution_count": 52,
   "metadata": {},
   "outputs": [],
   "source": [
    "# ONLY USE THESE IMPORTS.\n",
    "# PLEASE DON'T EDIT THIS CELL\n",
    "import numpy as np\n",
    "import matplotlib.pyplot as plt\n",
    "from sklearn.metrics import confusion_matrix"
   ]
  },
  {
   "cell_type": "markdown",
   "metadata": {},
   "source": [
    "## Read Data"
   ]
  },
  {
   "cell_type": "code",
   "execution_count": 27,
   "metadata": {},
   "outputs": [
    {
     "name": "stdout",
     "output_type": "stream",
     "text": [
      "(2400, 784)\n"
     ]
    }
   ],
   "source": [
    "# Read Training Images, Testing Images, Training Labels, Testing Labels\n",
    "# Use Assignment 0 for reference.\n",
    "training_data_path = \"Data/Train/\"\n",
    "images_training = []\n",
    "for i in range(1,2401):\n",
    "    image_path = training_data_path + str(i) +'.jpg'\n",
    "    image = plt.imread(image_path)\n",
    "    im_np = np.array(image)\n",
    "    im_np_flatten = im_np.flatten().reshape(1, 784)\n",
    "    images_training.append(im_np_flatten)\n",
    "images_training_np = np.array(images_training).reshape(2400, 784)\n",
    "print(images_training_np.shape)"
   ]
  },
  {
   "cell_type": "code",
   "execution_count": 28,
   "metadata": {},
   "outputs": [],
   "source": [
    "def separate_labels(images):\n",
    "    labels_list = [images[start: start+240] for start in range(0, len(images), 240)]\n",
    "    return labels_list"
   ]
  },
  {
   "cell_type": "code",
   "execution_count": 29,
   "metadata": {},
   "outputs": [],
   "source": [
    "def calculate_mean(images):\n",
    "    mean_of_list = np.round((np.sum(images, axis = 0, keepdims = True))/(len(images)), decimals=8)\n",
    "    return mean_of_list"
   ]
  },
  {
   "cell_type": "markdown",
   "metadata": {},
   "source": [
    "## Compute weight vectors"
   ]
  },
  {
   "cell_type": "code",
   "execution_count": 30,
   "metadata": {},
   "outputs": [
    {
     "name": "stdout",
     "output_type": "stream",
     "text": [
      "(10, 784, 1)\n",
      "[array([[0.00619621]]), array([[0.0005707]]), array([[0.00079104]]), array([[0.00063721]]), array([[0.00020027]]), array([[0.00018799]]), array([[0.00026037]]), array([[0.00018952]]), array([[0.00026515]]), array([[0.00013601]])]\n",
      "(10, 1, 1)\n"
     ]
    }
   ],
   "source": [
    "W0_All = []\n",
    "W1_All = []\n",
    "CL_a_list=[]\n",
    "CL_b_list=[]  \n",
    "M_a_list=[]\n",
    "M_b_list=[]\n",
    "S_a = np.zeros((784,784))\n",
    "S_b = np.zeros((784,784))\n",
    "data_whole = separate_labels(images_training_np)\n",
    "for i in range(10):\n",
    "    CL_a = data_whole[i]\n",
    "    CL_a_list.append(CL_a)  \n",
    "    M_a = calculate_mean(CL_a_list[i])\n",
    "    M_a_list.append(M_a)   \n",
    "    CL_b = [value for index,value in enumerate(data_whole) if index!= i]\n",
    "    CL_b_array=np.array(CL_b).reshape(2160,784)\n",
    "    CL_b_list.append(CL_b_array)       \n",
    "    M_b = calculate_mean(CL_b_list[i])\n",
    "    M_b_list.append(M_b)  \n",
    "    S_a = S_a + np.dot((np.subtract(CL_a_list[i], M_a_list[i])).T.reshape(784,240), np.subtract(CL_a_list[i], M_a_list[i]).reshape(240,784))\n",
    "    S_b = S_b + np.dot((np.subtract(CL_b_list[i], M_b_list[i])).T.reshape(784,2160), np.subtract(CL_b_list[i],M_b_list[i]).reshape(2160,784))\n",
    "    Sw = S_a + S_b\n",
    "    Sw_inv = np.linalg.pinv(Sw)        \n",
    "    W1 = np.dot(Sw_inv,(np.subtract(M_b_list[i],M_a_list[i]).T))\n",
    "    W1_All.append(W1)\n",
    "    W0 = -.5 * np.dot(sum(M_a_list[i], M_b_list[i]),np.array(W1))\n",
    "    W0_All.append(W0)\n",
    "\n",
    "print(np.array(W1_All).shape)\n",
    "print(W0_All)\n",
    "print(np.array(W0_All).shape)\n"
   ]
  },
  {
   "cell_type": "code",
   "execution_count": 31,
   "metadata": {},
   "outputs": [],
   "source": [
    "\n",
    "trained_digits = []\n",
    "labels_train = np.loadtxt(training_data_path+\"Training Labels.txt\")\n",
    "for label in range(len(labels_train)):\n",
    "    Y_label_training = []\n",
    "    for n in range(10):\n",
    "        Y_training = (np.dot(images_training[label],W1_All[n])) + W0_All[n]\n",
    "        Y_label_training.append(Y_training)\n",
    "    trained_digits.append(Y_label_training.index(min(Y_label_training)))"
   ]
  },
  {
   "cell_type": "code",
   "execution_count": 32,
   "metadata": {},
   "outputs": [],
   "source": [
    "testing_data_path = 'Data/Test/'\n",
    "Y_All = []\n",
    "list_of_images_testing = []\n",
    "for u in range(1,201): \n",
    "    im_path_test = testing_data_path+ str(u) +'.jpg'\n",
    "    im_test = plt.imread(im_path_test)\n",
    "    im_numpy_test = np.array(im_test)\n",
    "    im_numpy_flatten_test = im_numpy_test.flatten().reshape(1,784)\n",
    "    list_of_images_testing.append(im_numpy_flatten_test)\n",
    "list_of_images_testing_np = np.array(list_of_images_testing).reshape(200,784)\n",
    "\n",
    "testing_label_path = 'Test Labels.txt'\n",
    "testing_predictions = []\n",
    "testing_labels = np.loadtxt(testing_data_path+testing_label_path)\n",
    "for v in range(len(testing_labels)):\n",
    "    Y_label_testing = []\n",
    "    for n in range(10):\n",
    "        Y_testing = (np.dot(W1_All[n].T,list_of_images_testing_np[v])) + W0_All[n]\n",
    "        Y_label_testing.append(Y_testing)\n",
    "    testing_predictions.append(np.argmin(Y_label_testing))"
   ]
  },
  {
   "cell_type": "code",
   "execution_count": 33,
   "metadata": {},
   "outputs": [
    {
     "data": {
      "text/plain": [
       "200"
      ]
     },
     "execution_count": 33,
     "metadata": {},
     "output_type": "execute_result"
    }
   ],
   "source": [
    "len(testing_predictions)"
   ]
  },
  {
   "cell_type": "code",
   "execution_count": 48,
   "metadata": {},
   "outputs": [],
   "source": []
  },
  {
   "cell_type": "markdown",
   "metadata": {},
   "source": [
    "## Compute confusion matrix"
   ]
  },
  {
   "cell_type": "code",
   "execution_count": 57,
   "metadata": {},
   "outputs": [],
   "source": [
    "# Please return a variable named confusion_matrix so the next cell would work.\n",
    "#confusion_matrix = \n",
    "confusion_matrix = confusion_matrix(testing_labels, testing_predictions)\n",
    "#confusion_matrix = np.array([np.histogram(testing_predictions[i],tests[i])[0] for i in range(0,10)])"
   ]
  },
  {
   "cell_type": "markdown",
   "metadata": {},
   "source": [
    "## Plot confusion matrix and print accuracy (Don't edit)"
   ]
  },
  {
   "cell_type": "code",
   "execution_count": 59,
   "metadata": {},
   "outputs": [
    {
     "name": "stdout",
     "output_type": "stream",
     "text": [
      "Overall accuracy:  0.82\n"
     ]
    },
    {
     "data": {
      "image/png": "[encoded data removed]",
      "text/plain": [
       "<Figure size 720x720 with 1 Axes>"
      ]
     },
     "metadata": {
      "needs_background": "light"
     },
     "output_type": "display_data"
    }
   ],
   "source": [
    "# PLEASE DON'T EDIT THIS CELL\n",
    "\n",
    "plt.rc('figure', figsize=[20,10])\n",
    "plt.matshow(confusion_matrix,cmap='Blues')\n",
    "for i in range(0,confusion_matrix.shape[0]):\n",
    "    for j in range(0,confusion_matrix.shape[1]):\n",
    "        plt.annotate(confusion_matrix[i,j],(j,i))\n",
    "\n",
    "# Calculate Accuracy\n",
    "print(\"Overall accuracy: \",(np.sum(np.diag(confusion_matrix)))/list_of_images_testing_np.shape[0])"
   ]
  },
  {
   "cell_type": "markdown",
   "metadata": {},
   "source": [
    "## Compute bias node for each classifier"
   ]
  },
  {
   "cell_type": "markdown",
   "metadata": {},
   "source": [
    "## Compute confusion matrix"
   ]
  },
  {
   "cell_type": "code",
   "execution_count": null,
   "metadata": {},
   "outputs": [],
   "source": [
    "# Please return a variable named confusion_matrix so the next cell would work.\n",
    "#confusion_matrix ="
   ]
  },
  {
   "cell_type": "markdown",
   "metadata": {},
   "source": [
    "## Plot confusion matrix and print accuracy (Don't edit)"
   ]
  },
  {
   "cell_type": "code",
   "execution_count": 19,
   "metadata": {},
   "outputs": [
    {
     "ename": "ValueError",
     "evalue": "not enough values to unpack (expected 2, got 0)",
     "output_type": "error",
     "traceback": [
      "\u001b[1;31m---------------------------------------------------------------------------\u001b[0m",
      "\u001b[1;31mValueError\u001b[0m                                Traceback (most recent call last)",
      "\u001b[1;32m<ipython-input-19-f60925b41064>\u001b[0m in \u001b[0;36m<module>\u001b[1;34m\u001b[0m\n\u001b[0;32m      3\u001b[0m \u001b[1;31m# Plot Confusion Matrix\u001b[0m\u001b[1;33m\u001b[0m\u001b[1;33m\u001b[0m\u001b[1;33m\u001b[0m\u001b[0m\n\u001b[0;32m      4\u001b[0m \u001b[0mplt\u001b[0m\u001b[1;33m.\u001b[0m\u001b[0mrc\u001b[0m\u001b[1;33m(\u001b[0m\u001b[1;34m'figure'\u001b[0m\u001b[1;33m,\u001b[0m \u001b[0mfigsize\u001b[0m\u001b[1;33m=\u001b[0m\u001b[1;33m[\u001b[0m\u001b[1;36m20\u001b[0m\u001b[1;33m,\u001b[0m\u001b[1;36m10\u001b[0m\u001b[1;33m]\u001b[0m\u001b[1;33m)\u001b[0m\u001b[1;33m\u001b[0m\u001b[1;33m\u001b[0m\u001b[0m\n\u001b[1;32m----> 5\u001b[1;33m \u001b[0mplt\u001b[0m\u001b[1;33m.\u001b[0m\u001b[0mmatshow\u001b[0m\u001b[1;33m(\u001b[0m\u001b[0mconfusion_matrix\u001b[0m\u001b[1;33m,\u001b[0m\u001b[0mcmap\u001b[0m\u001b[1;33m=\u001b[0m\u001b[1;34m'Blues'\u001b[0m\u001b[1;33m)\u001b[0m\u001b[1;33m\u001b[0m\u001b[1;33m\u001b[0m\u001b[0m\n\u001b[0m\u001b[0;32m      6\u001b[0m \u001b[1;32mfor\u001b[0m \u001b[0mi\u001b[0m \u001b[1;32min\u001b[0m \u001b[0mrange\u001b[0m\u001b[1;33m(\u001b[0m\u001b[1;36m0\u001b[0m\u001b[1;33m,\u001b[0m\u001b[0mconfusion_matrix\u001b[0m\u001b[1;33m.\u001b[0m\u001b[0mshape\u001b[0m\u001b[1;33m[\u001b[0m\u001b[1;36m0\u001b[0m\u001b[1;33m]\u001b[0m\u001b[1;33m)\u001b[0m\u001b[1;33m:\u001b[0m\u001b[1;33m\u001b[0m\u001b[1;33m\u001b[0m\u001b[0m\n\u001b[0;32m      7\u001b[0m     \u001b[1;32mfor\u001b[0m \u001b[0mj\u001b[0m \u001b[1;32min\u001b[0m \u001b[0mrange\u001b[0m\u001b[1;33m(\u001b[0m\u001b[1;36m0\u001b[0m\u001b[1;33m,\u001b[0m\u001b[0mconfusion_matrix\u001b[0m\u001b[1;33m.\u001b[0m\u001b[0mshape\u001b[0m\u001b[1;33m[\u001b[0m\u001b[1;36m1\u001b[0m\u001b[1;33m]\u001b[0m\u001b[1;33m)\u001b[0m\u001b[1;33m:\u001b[0m\u001b[1;33m\u001b[0m\u001b[1;33m\u001b[0m\u001b[0m\n",
      "\u001b[1;32m~\\anaconda3\\lib\\site-packages\\matplotlib\\pyplot.py\u001b[0m in \u001b[0;36mmatshow\u001b[1;34m(A, fignum, **kwargs)\u001b[0m\n\u001b[0;32m   2112\u001b[0m         \u001b[1;31m# Extract actual aspect ratio of array and make appropriately sized\u001b[0m\u001b[1;33m\u001b[0m\u001b[1;33m\u001b[0m\u001b[1;33m\u001b[0m\u001b[0m\n\u001b[0;32m   2113\u001b[0m         \u001b[1;31m# figure.\u001b[0m\u001b[1;33m\u001b[0m\u001b[1;33m\u001b[0m\u001b[1;33m\u001b[0m\u001b[0m\n\u001b[1;32m-> 2114\u001b[1;33m         \u001b[0mfig\u001b[0m \u001b[1;33m=\u001b[0m \u001b[0mfigure\u001b[0m\u001b[1;33m(\u001b[0m\u001b[0mfignum\u001b[0m\u001b[1;33m,\u001b[0m \u001b[0mfigsize\u001b[0m\u001b[1;33m=\u001b[0m\u001b[0mfigaspect\u001b[0m\u001b[1;33m(\u001b[0m\u001b[0mA\u001b[0m\u001b[1;33m)\u001b[0m\u001b[1;33m)\u001b[0m\u001b[1;33m\u001b[0m\u001b[1;33m\u001b[0m\u001b[0m\n\u001b[0m\u001b[0;32m   2115\u001b[0m         \u001b[0max\u001b[0m \u001b[1;33m=\u001b[0m \u001b[0mfig\u001b[0m\u001b[1;33m.\u001b[0m\u001b[0madd_axes\u001b[0m\u001b[1;33m(\u001b[0m\u001b[1;33m[\u001b[0m\u001b[1;36m0.15\u001b[0m\u001b[1;33m,\u001b[0m \u001b[1;36m0.09\u001b[0m\u001b[1;33m,\u001b[0m \u001b[1;36m0.775\u001b[0m\u001b[1;33m,\u001b[0m \u001b[1;36m0.775\u001b[0m\u001b[1;33m]\u001b[0m\u001b[1;33m)\u001b[0m\u001b[1;33m\u001b[0m\u001b[1;33m\u001b[0m\u001b[0m\n\u001b[0;32m   2116\u001b[0m     \u001b[0mim\u001b[0m \u001b[1;33m=\u001b[0m \u001b[0max\u001b[0m\u001b[1;33m.\u001b[0m\u001b[0mmatshow\u001b[0m\u001b[1;33m(\u001b[0m\u001b[0mA\u001b[0m\u001b[1;33m,\u001b[0m \u001b[1;33m**\u001b[0m\u001b[0mkwargs\u001b[0m\u001b[1;33m)\u001b[0m\u001b[1;33m\u001b[0m\u001b[1;33m\u001b[0m\u001b[0m\n",
      "\u001b[1;32m~\\anaconda3\\lib\\site-packages\\matplotlib\\figure.py\u001b[0m in \u001b[0;36mfigaspect\u001b[1;34m(arg)\u001b[0m\n\u001b[0;32m   2761\u001b[0m     \u001b[1;31m# Extract the aspect ratio of the array\u001b[0m\u001b[1;33m\u001b[0m\u001b[1;33m\u001b[0m\u001b[1;33m\u001b[0m\u001b[0m\n\u001b[0;32m   2762\u001b[0m     \u001b[1;32mif\u001b[0m \u001b[0misarray\u001b[0m\u001b[1;33m:\u001b[0m\u001b[1;33m\u001b[0m\u001b[1;33m\u001b[0m\u001b[0m\n\u001b[1;32m-> 2763\u001b[1;33m         \u001b[0mnr\u001b[0m\u001b[1;33m,\u001b[0m \u001b[0mnc\u001b[0m \u001b[1;33m=\u001b[0m \u001b[0marg\u001b[0m\u001b[1;33m.\u001b[0m\u001b[0mshape\u001b[0m\u001b[1;33m[\u001b[0m\u001b[1;33m:\u001b[0m\u001b[1;36m2\u001b[0m\u001b[1;33m]\u001b[0m\u001b[1;33m\u001b[0m\u001b[1;33m\u001b[0m\u001b[0m\n\u001b[0m\u001b[0;32m   2764\u001b[0m         \u001b[0marr_ratio\u001b[0m \u001b[1;33m=\u001b[0m \u001b[0mnr\u001b[0m \u001b[1;33m/\u001b[0m \u001b[0mnc\u001b[0m\u001b[1;33m\u001b[0m\u001b[1;33m\u001b[0m\u001b[0m\n\u001b[0;32m   2765\u001b[0m     \u001b[1;32melse\u001b[0m\u001b[1;33m:\u001b[0m\u001b[1;33m\u001b[0m\u001b[1;33m\u001b[0m\u001b[0m\n",
      "\u001b[1;31mValueError\u001b[0m: not enough values to unpack (expected 2, got 0)"
     ]
    }
   ],
   "source": [
    "# PLEASE DON'T EDIT THIS CELL\n",
    "\n",
    "# Plot Confusion Matrix\n",
    "plt.rc('figure', figsize=[20,10])\n",
    "plt.matshow(confusion_matrix,cmap='Blues')\n",
    "for i in range(0,confusion_matrix.shape[0]):\n",
    "    for j in range(0,confusion_matrix.shape[1]):\n",
    "        plt.annotate(confusion_matrix[i,j],(j,i))\n",
    "        \n",
    "# Calculate Accuracy\n",
    "print(\"Overall accuracy: \",(np.sum(np.diag(confusion_matrix)))/test.shape[0])"
   ]
  }
 ],
 "metadata": {
  "kernelspec": {
   "display_name": "Python 3",
   "language": "python",
   "name": "python3"
  },
  "language_info": {
   "codemirror_mode": {
    "name": "ipython",
    "version": 3
   },
   "file_extension": ".py",
   "mimetype": "text/x-python",
   "name": "python",
   "nbconvert_exporter": "python",
   "pygments_lexer": "ipython3",
   "version": "3.8.3"
  }
 },
 "nbformat": 4,
 "nbformat_minor": 4
}
